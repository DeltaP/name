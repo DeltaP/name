{
 "cells": [
  {
   "cell_type": "code",
   "execution_count": 1,
   "metadata": {
    "collapsed": true
   },
   "outputs": [],
   "source": [
    "import pandas as pd\n",
    "import numpy as np\n",
    "import glob as g"
   ]
  },
  {
   "cell_type": "code",
   "execution_count": 2,
   "metadata": {},
   "outputs": [],
   "source": [
    "df = pd.DataFrame()\n",
    "for file in g.glob('data/raw/names/*.txt'):\n",
    "    year        = int(\"\".join([c for c in file if c.isdigit()]))\n",
    "    tdf         = pd.read_csv(file,header=None, names=['name', 'gender', 'count'],dtype={'name':str,'gender':str,'count':np.int32})\n",
    "    tdf['year'] = year\n",
    "    if len(df)==0:\n",
    "        df = tdf\n",
    "    else:\n",
    "        df = pd.concat([df,tdf])\n",
    "df.to_csv('data/processed/USA_names.csv',header=True)"
   ]
  },
  {
   "cell_type": "code",
   "execution_count": null,
   "metadata": {
    "collapsed": true
   },
   "outputs": [],
   "source": []
  }
 ],
 "metadata": {
  "kernelspec": {
   "display_name": "Python 3",
   "language": "python",
   "name": "python3"
  },
  "language_info": {
   "codemirror_mode": {
    "name": "ipython",
    "version": 3
   },
   "file_extension": ".py",
   "mimetype": "text/x-python",
   "name": "python",
   "nbconvert_exporter": "python",
   "pygments_lexer": "ipython3",
   "version": "3.6.1"
  }
 },
 "nbformat": 4,
 "nbformat_minor": 1
}
